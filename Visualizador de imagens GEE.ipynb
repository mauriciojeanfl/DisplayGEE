{
 "cells": [
  {
   "cell_type": "code",
   "execution_count": null,
   "id": "3ead8a74",
   "metadata": {},
   "outputs": [],
   "source": [
    "import ee\n",
    "import geemap"
   ]
  },
  {
   "cell_type": "code",
   "execution_count": null,
   "id": "112aa09b",
   "metadata": {},
   "outputs": [],
   "source": [
    "Map = geemap.Map()\n",
    "Map.clear_layers()\n",
    "Map.add_basemap('HYBRID')\n",
    "Map"
   ]
  },
  {
   "cell_type": "code",
   "execution_count": null,
   "id": "8becc259",
   "metadata": {},
   "outputs": [],
   "source": [
    "def imagens(datainicial,datafinal,nuvem):\n",
    "    Map.clear_layers()\n",
    "    Map.add_basemap('HYBRID')\n",
    "    colecao = ee.ImageCollection('COPERNICUS/S2_SR')\\\n",
    "    .filterDate(datainicial,datafinal)\\\n",
    "    .filter(ee.Filter.lt('CLOUDY_PIXEL_PERCENTAGE',nuvem))\\\n",
    "    .filterBounds(Map.user_roi.getInfo())\\\n",
    "    .select(['B4','B3', 'B2'])\\\n",
    "    .sort('system:time_start', False)\n",
    "    \n",
    "    \n",
    "    # loop aviso\n",
    "    contador = 0\n",
    "    if colecao.size().getInfo() > 15:\n",
    "        contador = 15\n",
    "        print(f'ATENÇÃO, O NÚMERO TOTAL DE IMAGENS NA COLEÇÃO PARA O PERÍODO É DE : {colecao.size().getInfo()} \\n') \n",
    "        print('15 IMAGENS É O LIMITE MÁXIMO DE VISUALIZAÇÃO. ALGUMAS IMAGENS NÃO SERÃO APRESENTADAS \\n')\n",
    "    elif colecao.size().getInfo() == 0:\n",
    "        print('NÃO FORAM ENCONTRADAS IMAGENS PARA O PERÍODO')\n",
    "    else:\n",
    "        print(f'O NÚMERO TOTAL DE IMAGENS NA COLEÇAO PARA O PERÍODO É DE : {colecao.size().getInfo()} \\n') \n",
    "        contador = colecao.size().getInfo()\n",
    "    \n",
    "    # Transformando imagecollection em lista\n",
    "    collist = colecao.toList(colecao.size())\n",
    "    \n",
    "    # parametros de visualizacao\n",
    "    vizparam = {\n",
    "    'min': 0,\n",
    "    'max': 2000,\n",
    "    'bands': ['B4', 'B3','B2'],\n",
    "    'gamma': 1.5}\n",
    "\n",
    "    # loop de display \n",
    "    cont = 0\n",
    "    for i in range(contador):\n",
    "        cont += 1\n",
    "        print(colecao.aggregate_array('PRODUCT_ID').getInfo()[i])\n",
    "        \n",
    "        image = ee.Image(collist.get(i))\n",
    "        \n",
    "        date = image.date().format('yyyy-MM-dd').getInfo()\n",
    "        \n",
    "        Map.addLayer(ee.Image(collist.get(i)),vizparam, str(date + '_' + str(cont))) \n",
    "    \n",
    "    Map.centerObject(ee.Image(collist.get(0)), 9)\n",
    "    \n",
    "    return Map"
   ]
  },
  {
   "cell_type": "code",
   "execution_count": null,
   "id": "29eaaee5",
   "metadata": {
    "scrolled": false
   },
   "outputs": [],
   "source": [
    "imagens('2021-01-01','2021-05-15',10)"
   ]
  }
 ],
 "metadata": {
  "hide_input": false,
  "kernelspec": {
   "display_name": "Python 3.9.12 ('base')",
   "language": "python",
   "name": "python3"
  },
  "language_info": {
   "codemirror_mode": {
    "name": "ipython",
    "version": 3
   },
   "file_extension": ".py",
   "mimetype": "text/x-python",
   "name": "python",
   "nbconvert_exporter": "python",
   "pygments_lexer": "ipython3",
   "version": "3.9.12"
  },
  "toc": {
   "base_numbering": 1,
   "nav_menu": {},
   "number_sections": true,
   "sideBar": true,
   "skip_h1_title": false,
   "title_cell": "Table of Contents",
   "title_sidebar": "Contents",
   "toc_cell": false,
   "toc_position": {},
   "toc_section_display": true,
   "toc_window_display": false
  },
  "vscode": {
   "interpreter": {
    "hash": "d6d658dea5e2d793a888c64f10c4ef8383f53a0535633d2792bec250f8e0cbea"
   }
  }
 },
 "nbformat": 4,
 "nbformat_minor": 5
}
