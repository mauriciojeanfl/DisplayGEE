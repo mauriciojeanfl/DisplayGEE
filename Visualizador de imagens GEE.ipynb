{
 "cells": [
  {
   "cell_type": "code",
   "execution_count": 1,
   "id": "3ead8a74",
   "metadata": {},
   "outputs": [],
   "source": [
    "import ee\n",
    "import geemap"
   ]
  },
  {
   "cell_type": "code",
   "execution_count": 2,
   "id": "112aa09b",
   "metadata": {},
   "outputs": [
    {
     "data": {
      "application/vnd.jupyter.widget-view+json": {
       "model_id": "db7f48dd9fb945d19b0235774e21513a",
       "version_major": 2,
       "version_minor": 0
      },
      "text/plain": [
       "Map(center=[20, 0], controls=(WidgetControl(options=['position', 'transparent_bg'], widget=HBox(children=(Togg…"
      ]
     },
     "metadata": {},
     "output_type": "display_data"
    }
   ],
   "source": [
    "Map = geemap.Map()\n",
    "Map.clear_layers()\n",
    "Map.add_basemap('HYBRID')\n",
    "Map"
   ]
  },
  {
   "cell_type": "code",
   "execution_count": 8,
   "id": "8becc259",
   "metadata": {},
   "outputs": [],
   "source": [
    "def imagens(datainicial,datafinal,nuvem):\n",
    "    Map.clear_layers()\n",
    "    Map.add_basemap('HYBRID')\n",
    "    colecao = ee.ImageCollection('COPERNICUS/S2_SR')\\\n",
    "    .filterDate(datainicial,datafinal)\\\n",
    "    .filter(ee.Filter.lt('CLOUDY_PIXEL_PERCENTAGE',nuvem))\\\n",
    "    .filterBounds(Map.user_roi.getInfo())\\\n",
    "    .select(['B4','B3', 'B2'])\\\n",
    "    .sort('system:time_start', False)\\\n",
    "    \n",
    "    \n",
    "    # loop aviso\n",
    "    contador = 0\n",
    "    if colecao.size().getInfo() > 15:\n",
    "        contador = 15\n",
    "        print(f'ATENÇÃO, O NÚMERO TOTAL DE IMAGENS NA COLEÇÃO PARA O PERÍODO É DE : {colecao.size().getInfo()} \\n') \n",
    "        print('15 IMAGENS É O LIMITE MÁXIMO DE VISUALIZAÇÃO. ALGUMAS IMAGENS NÃO SERÃO APRESENTADAS \\n')\n",
    "    elif colecao.size().getInfo() == 0:\n",
    "        print('NÃO FORAM ENCONTRADAS IMAGENS PARA O PERÍODO')\n",
    "    else:\n",
    "        print(f'O NÚMERO TOTAL DE IMAGENS NA COLEÇAO PARA O PERÍODO É DE : {colecao.size().getInfo()} \\n') \n",
    "        contador = colecao.size().getInfo()\n",
    "    \n",
    "    # Transformando imagecollection em lista\n",
    "    collist = colecao.toList(colecao.size())\n",
    "    \n",
    "    # parametros de visualizacao\n",
    "    vizparam = {\n",
    "    'min': 0,\n",
    "    'max': 2000,\n",
    "    'bands': ['B4', 'B3','B2'],\n",
    "    'gamma': 1.5}\n",
    "\n",
    "    # loop de display \n",
    "    cont = 0\n",
    "    for i in range(contador):\n",
    "        cont += 1\n",
    "        print(colecao.aggregate_array('PRODUCT_ID').getInfo()[i])\n",
    "        \n",
    "        image = ee.Image(collist.get(i))\n",
    "        \n",
    "        date = image.date().format('yyyy-MM-dd').getInfo()\n",
    "        \n",
    "        Map.addLayer(ee.Image(collist.get(i)),vizparam, str(date + '_' + str(cont))) \n",
    "    \n",
    "    Map.centerObject(ee.Image(collist.get(0)), 9)\n",
    "    \n",
    "    return Map"
   ]
  },
  {
   "cell_type": "code",
   "execution_count": 9,
   "id": "29eaaee5",
   "metadata": {
    "scrolled": false
   },
   "outputs": [
    {
     "name": "stdout",
     "output_type": "stream",
     "text": [
      "O NÚMERO TOTAL DE IMAGENS NA COLEÇAO PARA O PERÍODO É DE : 4 \n",
      "\n",
      "S2B_MSIL2A_20210429T132229_N0300_R038_T22JGR_20210429T185345\n",
      "S2B_MSIL2A_20210310T132229_N0214_R038_T22JGR_20210310T172652\n",
      "S2A_MSIL2A_20210223T132231_N0214_R038_T22JGR_20210223T154640\n",
      "S2B_MSIL2A_20210218T132229_N0214_R038_T22JGR_20210218T190519\n"
     ]
    },
    {
     "data": {
      "application/vnd.jupyter.widget-view+json": {
       "model_id": "db7f48dd9fb945d19b0235774e21513a",
       "version_major": 2,
       "version_minor": 0
      },
      "text/plain": [
       "Map(bottom=151590.0, center=[-26.69186781447986, -48.43891626481986], controls=(WidgetControl(options=['positi…"
      ]
     },
     "metadata": {},
     "output_type": "display_data"
    }
   ],
   "source": [
    "imagens('2021-01-01','2021-05-15',10)"
   ]
  },
  {
   "cell_type": "code",
   "execution_count": null,
   "id": "80d125c0",
   "metadata": {},
   "outputs": [],
   "source": []
  }
 ],
 "metadata": {
  "hide_input": false,
  "kernelspec": {
   "display_name": "Python 3 (ipykernel)",
   "language": "python",
   "name": "python3"
  },
  "language_info": {
   "codemirror_mode": {
    "name": "ipython",
    "version": 3
   },
   "file_extension": ".py",
   "mimetype": "text/x-python",
   "name": "python",
   "nbconvert_exporter": "python",
   "pygments_lexer": "ipython3",
   "version": "3.10.4"
  },
  "toc": {
   "base_numbering": 1,
   "nav_menu": {},
   "number_sections": true,
   "sideBar": true,
   "skip_h1_title": false,
   "title_cell": "Table of Contents",
   "title_sidebar": "Contents",
   "toc_cell": false,
   "toc_position": {},
   "toc_section_display": true,
   "toc_window_display": false
  }
 },
 "nbformat": 4,
 "nbformat_minor": 5
}
