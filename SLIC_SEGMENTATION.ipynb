{
 "cells": [
  {
   "cell_type": "code",
   "execution_count": 1,
   "metadata": {},
   "outputs": [],
   "source": [
    "import numpy as np\n",
    "from skimage import exposure\n",
    "#from skimage.segmentation import quickshift, slic, watershed\n",
    "import geopandas as gpd\n",
    "from osgeo import gdal, ogr\n",
    "import scipy\n",
    "import pandas as pd\n",
    "from sklearn.ensemble import RandomForestClassifier\n",
    "import pandas as pd\n",
    "import skimage.feature as feature\n",
    "import math\n",
    "\n",
    "from hyperopt import hp,fmin,tpe,STATUS_OK,Trials\n",
    "\n",
    "from sklearn.model_selection import cross_val_score, GridSearchCV\n",
    "from sklearn.metrics import classification_report, accuracy_score, confusion_matrix, cohen_kappa_score\n",
    "\n",
    "import warnings\n",
    "warnings.filterwarnings(\"ignore\") \n",
    "from matplotlib import pyplot\n",
    "from skimage.segmentation import slic, mark_boundaries, quickshift, watershed, felzenszwalb\n",
    "##from sklearn import preprocessing\n",
    "import rasterio\n",
    "from skimage import io, color, segmentation\n",
    "from rasterio import plot\n",
    "from skimage.color import rgb2gray\n",
    "from skimage.filters import sobel\n",
    "from rasterio.plot import show"
   ]
  },
  {
   "cell_type": "code",
   "execution_count": 2,
   "metadata": {},
   "outputs": [],
   "source": [
    "# Open the stacked band satellite data\n",
    "dataset = gdal.Open(r\"C:\\Users\\10333076966\\Documents\\GEOPROCESSAMENTO\\VIDEIRA\\TESTE_NOVO\\CBERS_RGB_2m_.tif\")\n",
    "driverTiff = gdal.GetDriverByName('GTiff')\n",
    "\n",
    "# Read the stacked bands into a NumPy array\n",
    "img_stack = np.zeros((dataset.RasterCount, dataset.RasterYSize, dataset.RasterXSize), dtype=np.float32)\n",
    "for i in range(dataset.RasterCount):\n",
    "    band = dataset.GetRasterBand(i+1)\n",
    "    img_stack[i,:,:] = band.ReadAsArray().astype(np.float32)\n",
    "    band = None\n",
    "\n",
    "# Convert stacked bands to RGB image\n",
    "img_rgb = np.transpose(img_stack, (1,2,0))\n",
    "\n",
    "# Convert RGB image to HSV color space\n",
    "img_hsv = color.rgb2hsv(img_rgb)\n",
    "\n",
    "# Perform SLIC segmentation on HSV image\n",
    "#segments = slic(img_hsv, n_segments=30000, compactness=5, sigma = 0.001)\n",
    "\n"
   ]
  },
  {
   "cell_type": "code",
   "execution_count": 114,
   "metadata": {},
   "outputs": [],
   "source": [
    "img_lab = color.rgb2lab(img_rgb)\n",
    "segments = slic(img_lab, n_segments=40000, compactness = 3, sigma = 0.001)"
   ]
  },
  {
   "cell_type": "code",
   "execution_count": 47,
   "metadata": {},
   "outputs": [],
   "source": [
    "gradient = sobel(rgb2gray(img_rgb))\n",
    "segments = watershed(gradient, markers=8000, compactness=0.001)"
   ]
  },
  {
   "cell_type": "code",
   "execution_count": 3,
   "metadata": {},
   "outputs": [],
   "source": [
    "segments = felzenszwalb(img_rgb, scale=400, sigma=1.5, min_size=100, channel_axis=2)"
   ]
  },
  {
   "cell_type": "code",
   "execution_count": 4,
   "metadata": {},
   "outputs": [],
   "source": [
    "clfds = driverTiff.Create(r'C:\\Users\\10333076966\\Documents\\GEOPROCESSAMENTO\\VIDEIRA\\TESTE_NOVO\\SEGMENT_FELZEN.tif', dataset.RasterXSize, dataset.RasterYSize,\n",
    "                          1, gdal.GDT_Int32)\n",
    "clfds.SetGeoTransform(dataset.GetGeoTransform())\n",
    "clfds.SetProjection(dataset.GetProjection())\n",
    "clfds.GetRasterBand(1).SetNoDataValue(-9999.0)\n",
    "clfds.GetRasterBand(1).WriteArray(segments)\n",
    "clfds = None"
   ]
  },
  {
   "cell_type": "code",
   "execution_count": null,
   "metadata": {},
   "outputs": [],
   "source": []
  }
 ],
 "metadata": {
  "kernelspec": {
   "display_name": "Python 3.10.4 ('geo')",
   "language": "python",
   "name": "python3"
  },
  "language_info": {
   "codemirror_mode": {
    "name": "ipython",
    "version": 3
   },
   "file_extension": ".py",
   "mimetype": "text/x-python",
   "name": "python",
   "nbconvert_exporter": "python",
   "pygments_lexer": "ipython3",
   "version": "3.9.16"
  },
  "orig_nbformat": 4,
  "vscode": {
   "interpreter": {
    "hash": "539ff20f4ee1d590eff0393f3a020850b595bcb7a8e76cc93c9854686ef3e2cb"
   }
  }
 },
 "nbformat": 4,
 "nbformat_minor": 2
}
